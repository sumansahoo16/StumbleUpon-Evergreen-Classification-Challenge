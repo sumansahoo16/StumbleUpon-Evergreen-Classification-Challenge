{
 "cells": [
  {
   "cell_type": "markdown",
   "metadata": {
    "papermill": {
     "duration": 0.011685,
     "end_time": "2021-03-06T03:16:26.968868",
     "exception": false,
     "start_time": "2021-03-06T03:16:26.957183",
     "status": "completed"
    },
    "tags": []
   },
   "source": [
    "# Imports"
   ]
  },
  {
   "cell_type": "code",
   "execution_count": 1,
   "metadata": {
    "_cell_guid": "b1076dfc-b9ad-4769-8c92-a6c4dae69d19",
    "_uuid": "8f2839f25d086af736a60e9eeb907d3b93b6e0e5",
    "execution": {
     "iopub.execute_input": "2021-03-06T03:16:26.998802Z",
     "iopub.status.busy": "2021-03-06T03:16:26.998038Z",
     "iopub.status.idle": "2021-03-06T03:16:35.245198Z",
     "shell.execute_reply": "2021-03-06T03:16:35.246317Z"
    },
    "papermill": {
     "duration": 8.267708,
     "end_time": "2021-03-06T03:16:35.246754",
     "exception": false,
     "start_time": "2021-03-06T03:16:26.979046",
     "status": "completed"
    },
    "tags": []
   },
   "outputs": [],
   "source": [
    "import numpy as np\n",
    "import pandas as pd\n",
    "import matplotlib.pyplot as plt\n",
    "\n",
    "import os\n",
    "import time\n",
    "import random\n",
    "import string\n",
    "from collections import Counter\n",
    "\n",
    "from nltk.corpus import stopwords\n",
    "from sklearn.preprocessing import RobustScaler\n",
    "from sklearn.model_selection import train_test_split\n",
    "from transformers import BertTokenizer, BertForSequenceClassification, set_seed\n",
    "\n",
    "import torch\n",
    "import torch.nn as nn\n",
    "from torch.utils.data import TensorDataset\n",
    "\n",
    "import warnings\n",
    "warnings.filterwarnings(\"ignore\")\n",
    "\n",
    "\n",
    "\n",
    "def seed_everything(seed = 30):\n",
    "    set_seed(seed)\n",
    "    random.seed(seed)\n",
    "    os.environ['PYTHONHASHSEED'] = str(seed)\n",
    "    np.random.seed(seed)\n",
    "    torch.manual_seed(seed)\n",
    "    torch.cuda.manual_seed(seed)\n",
    "    torch.backends.cudnn.deterministic = True\n",
    "    torch.backends.cudnn.benchmark = True\n",
    "\n",
    "seed_everything()\n",
    "\n",
    "\n",
    "class cfg:\n",
    "    \n",
    "    model = 'bert-base-uncased'\n",
    "    seed = 16\n",
    "    \n",
    "    max_len = 512\n",
    "    \n",
    "    \n",
    "    EPOCHS = 10\n",
    "    lr = 5e-5\n",
    "    bs = 8\n",
    "    \n",
    "    \n",
    "device = torch.device('cuda' if torch.cuda.is_available() else 'cpu')"
   ]
  },
  {
   "cell_type": "markdown",
   "metadata": {
    "papermill": {
     "duration": 0.016419,
     "end_time": "2021-03-06T03:16:35.281268",
     "exception": false,
     "start_time": "2021-03-06T03:16:35.264849",
     "status": "completed"
    },
    "tags": []
   },
   "source": [
    "# Data Loading and Preprocessing"
   ]
  },
  {
   "cell_type": "code",
   "execution_count": 2,
   "metadata": {
    "execution": {
     "iopub.execute_input": "2021-03-06T03:16:35.326077Z",
     "iopub.status.busy": "2021-03-06T03:16:35.325255Z",
     "iopub.status.idle": "2021-03-06T03:16:36.209307Z",
     "shell.execute_reply": "2021-03-06T03:16:36.208246Z"
    },
    "papermill": {
     "duration": 0.911316,
     "end_time": "2021-03-06T03:16:36.209462",
     "exception": false,
     "start_time": "2021-03-06T03:16:35.298146",
     "status": "completed"
    },
    "tags": []
   },
   "outputs": [],
   "source": [
    "data = pd.read_csv('/kaggle/input/stumbleupon/train.tsv', sep='\\t')\n",
    "test = pd.read_csv('/kaggle/input/stumbleupon/test.tsv',  sep='\\t')\n",
    "\n",
    "sub = pd.read_csv('/kaggle/input/stumbleupon/sampleSubmission.csv')"
   ]
  },
  {
   "cell_type": "code",
   "execution_count": 3,
   "metadata": {
    "execution": {
     "iopub.execute_input": "2021-03-06T03:16:36.246636Z",
     "iopub.status.busy": "2021-03-06T03:16:36.245951Z",
     "iopub.status.idle": "2021-03-06T03:16:39.289553Z",
     "shell.execute_reply": "2021-03-06T03:16:39.289012Z"
    },
    "papermill": {
     "duration": 3.068,
     "end_time": "2021-03-06T03:16:39.289806",
     "exception": false,
     "start_time": "2021-03-06T03:16:36.221806",
     "status": "completed"
    },
    "tags": []
   },
   "outputs": [],
   "source": [
    "def lower_case(data):\n",
    "    \n",
    "    data['boilerplate'] = data['boilerplate'].str.lower()\n",
    "    return data\n",
    "\n",
    "PUNCT_TO_REMOVE = string.punctuation\n",
    "def remove_punctuation(text):\n",
    "    \"\"\"custom function to remove the punctuation\"\"\"\n",
    "    return text.translate(str.maketrans('', '', PUNCT_TO_REMOVE))\n",
    "\n",
    "STOPWORDS = set(stopwords.words('english'))\n",
    "def remove_stopwords(text):\n",
    "    \"\"\"custom function to remove the stopwords\"\"\"\n",
    "    return \" \".join([word for word in str(text).split() if word not in STOPWORDS])\n",
    "\n",
    "\n",
    "cnt = Counter()\n",
    "for text in data[\"boilerplate\"].values:\n",
    "    for word in text.split():\n",
    "        cnt[word] += 1\n",
    "        \n",
    "FREQWORDS = set([w for (w, wc) in cnt.most_common(40)])\n",
    "def remove_freqwords(text):\n",
    "    \"\"\"custom function to remove the frequent words\"\"\"\n",
    "    return \" \".join([word for word in str(text).split() if word not in FREQWORDS])\n",
    "\n",
    "def preprocess_boilerplate(df):\n",
    "    \n",
    "    df['boilerplate'].replace(to_replace=r'\"title\":', value=\"\", inplace=True, regex=True)\n",
    "    df['boilerplate'].replace(to_replace=r'\"url\":'  , value=\"\", inplace=True, regex=True)\n",
    "    df['boilerplate'].replace(to_replace=r'\"body\":' , value=\"\", inplace=True, regex=True)\n",
    "    \n",
    "    df = lower_case(df)\n",
    "    \n",
    "    df[\"boilerplate\"] = df[\"boilerplate\"].apply(lambda text: remove_punctuation(text))\n",
    "    df[\"boilerplate\"] = df[\"boilerplate\"].apply(lambda text: remove_stopwords(text))\n",
    "    df[\"boilerplate\"] = df[\"boilerplate\"].apply(lambda text: remove_freqwords(text))\n",
    "    \n",
    "    \n",
    "    return df\n",
    "\n",
    "\n",
    "data = preprocess_boilerplate(data)\n",
    "test = preprocess_boilerplate(test)"
   ]
  },
  {
   "cell_type": "code",
   "execution_count": 4,
   "metadata": {
    "execution": {
     "iopub.execute_input": "2021-03-06T03:16:39.332569Z",
     "iopub.status.busy": "2021-03-06T03:16:39.325670Z",
     "iopub.status.idle": "2021-03-06T03:16:39.353299Z",
     "shell.execute_reply": "2021-03-06T03:16:39.352711Z"
    },
    "papermill": {
     "duration": 0.051952,
     "end_time": "2021-03-06T03:16:39.353436",
     "exception": false,
     "start_time": "2021-03-06T03:16:39.301484",
     "status": "completed"
    },
    "tags": []
   },
   "outputs": [],
   "source": [
    "def numerical_data_preprocessing(data):\n",
    "\n",
    "    data['alchemy_category_score'] = pd.to_numeric(data['alchemy_category_score'], errors='coerce', downcast='float')\n",
    "    data['alchemy_category_score'] = data['alchemy_category_score'].fillna(0.603) #mean of traiining data \n",
    "    \n",
    "    data['is_news'] = pd.to_numeric(data['is_news'], errors='coerce', downcast='float')\n",
    "    data['is_news'] = data['is_news'].fillna(0.0)\n",
    "    \n",
    "    data['news_front_page'] = pd.to_numeric(data['news_front_page'], errors='coerce', downcast='float')\n",
    "    data['news_front_page'] = data['news_front_page'].fillna(0.5)\n",
    "\n",
    "    return data\n",
    "\n",
    "data = numerical_data_preprocessing(data)\n",
    "test = numerical_data_preprocessing(test)"
   ]
  },
  {
   "cell_type": "code",
   "execution_count": 5,
   "metadata": {
    "execution": {
     "iopub.execute_input": "2021-03-06T03:16:39.386467Z",
     "iopub.status.busy": "2021-03-06T03:16:39.381135Z",
     "iopub.status.idle": "2021-03-06T03:16:39.470268Z",
     "shell.execute_reply": "2021-03-06T03:16:39.469559Z"
    },
    "papermill": {
     "duration": 0.10588,
     "end_time": "2021-03-06T03:16:39.470402",
     "exception": false,
     "start_time": "2021-03-06T03:16:39.364522",
     "status": "completed"
    },
    "tags": []
   },
   "outputs": [],
   "source": [
    "#Scaling the data\n",
    "\n",
    "num_cols = list(data.columns[4:-1])\n",
    "\n",
    "scaler = RobustScaler()\n",
    "scaler.fit(data[num_cols])\n",
    "\n",
    "data[num_cols] = scaler.transform(data[num_cols])\n",
    "test[num_cols] = scaler.transform(test[num_cols])"
   ]
  },
  {
   "cell_type": "code",
   "execution_count": 6,
   "metadata": {
    "execution": {
     "iopub.execute_input": "2021-03-06T03:16:39.499278Z",
     "iopub.status.busy": "2021-03-06T03:16:39.498632Z",
     "iopub.status.idle": "2021-03-06T03:16:39.514906Z",
     "shell.execute_reply": "2021-03-06T03:16:39.513979Z"
    },
    "papermill": {
     "duration": 0.032585,
     "end_time": "2021-03-06T03:16:39.515027",
     "exception": false,
     "start_time": "2021-03-06T03:16:39.482442",
     "status": "completed"
    },
    "tags": []
   },
   "outputs": [],
   "source": [
    "#Splitting Data for tranning and validation\n",
    "\n",
    "train, valid = train_test_split(data, test_size = 0.2, random_state = cfg.seed, stratify = data['label'])\n",
    "train, valid = train.reset_index(), valid.reset_index()"
   ]
  },
  {
   "cell_type": "markdown",
   "metadata": {
    "papermill": {
     "duration": 0.012299,
     "end_time": "2021-03-06T03:16:39.540128",
     "exception": false,
     "start_time": "2021-03-06T03:16:39.527829",
     "status": "completed"
    },
    "tags": []
   },
   "source": [
    "# Organizing Dataset"
   ]
  },
  {
   "cell_type": "code",
   "execution_count": 7,
   "metadata": {
    "execution": {
     "iopub.execute_input": "2021-03-06T03:16:39.573643Z",
     "iopub.status.busy": "2021-03-06T03:16:39.572579Z",
     "iopub.status.idle": "2021-03-06T03:17:57.135907Z",
     "shell.execute_reply": "2021-03-06T03:17:57.135412Z"
    },
    "papermill": {
     "duration": 77.583659,
     "end_time": "2021-03-06T03:17:57.136049",
     "exception": false,
     "start_time": "2021-03-06T03:16:39.552390",
     "status": "completed"
    },
    "tags": []
   },
   "outputs": [
    {
     "data": {
      "application/vnd.jupyter.widget-view+json": {
       "model_id": "58a1cc98d9f043b8ac81fa854a2b99c8",
       "version_major": 2,
       "version_minor": 0
      },
      "text/plain": [
       "Downloading:   0%|          | 0.00/232k [00:00<?, ?B/s]"
      ]
     },
     "metadata": {},
     "output_type": "display_data"
    }
   ],
   "source": [
    "tokenizer = BertTokenizer.from_pretrained(cfg.model)\n",
    "\n",
    "def tokenizing(data):\n",
    "    \n",
    "    \n",
    "    encoded_data = tokenizer.batch_encode_plus(list(data.boilerplate.values), \n",
    "                                               add_special_tokens=True, \n",
    "                                               return_attention_mask=True, \n",
    "                                               #pad_to_max_length=True, \n",
    "                                               padding='max_length',\n",
    "                                               max_length=cfg.max_len, \n",
    "                                               return_tensors='pt',\n",
    "                                               truncation=True)\n",
    "    \n",
    "    return encoded_data['input_ids'], encoded_data['attention_mask']\n",
    "\n",
    "\n",
    "def make_Tensor(data, test = False):\n",
    "    \n",
    "    \n",
    "    ids , att = tokenizing(data)\n",
    "    \n",
    "    num = data[num_cols].values\n",
    "    \n",
    "    if test:\n",
    "        return ids, att, torch.Tensor(num)\n",
    "    \n",
    "    y = data['label'].values\n",
    "    \n",
    "    return ids, att, torch.Tensor(num), torch.Tensor(y)\n",
    "    \n",
    "\n",
    "    \n",
    "trn_ids, trn_att, trn_num, trn_y = make_Tensor(train)\n",
    "vld_ids, vld_att, vld_num, vld_y = make_Tensor(valid)"
   ]
  },
  {
   "cell_type": "code",
   "execution_count": 8,
   "metadata": {
    "execution": {
     "iopub.execute_input": "2021-03-06T03:17:57.169332Z",
     "iopub.status.busy": "2021-03-06T03:17:57.168667Z",
     "iopub.status.idle": "2021-03-06T03:17:57.172121Z",
     "shell.execute_reply": "2021-03-06T03:17:57.171697Z"
    },
    "papermill": {
     "duration": 0.024096,
     "end_time": "2021-03-06T03:17:57.172232",
     "exception": false,
     "start_time": "2021-03-06T03:17:57.148136",
     "status": "completed"
    },
    "tags": []
   },
   "outputs": [],
   "source": [
    "class FastTensorDataLoader:\n",
    "    \"\"\"\n",
    "    A DataLoader-like object for a set of tensors that can be much faster than\n",
    "    TensorDataset + DataLoader because dataloader grabs individual indices of\n",
    "    the dataset and calls cat (slow).\n",
    "    Source: https://discuss.pytorch.org/t/dataloader-much-slower-than-manual-batching/27014/6\n",
    "    \"\"\"\n",
    "    def __init__(self, *tensors, batch_size=32, shuffle=False):\n",
    "        \"\"\"\n",
    "        Initialize a FastTensorDataLoader.\n",
    "        :param *tensors: tensors to store. Must have the same length @ dim 0.\n",
    "        :param batch_size: batch size to load.\n",
    "        :param shuffle: if True, shuffle the data *in-place* whenever an\n",
    "            iterator is created out of this object.\n",
    "        :returns: A FastTensorDataLoader.\n",
    "        \"\"\"\n",
    "        assert all(t.shape[0] == tensors[0].shape[0] for t in tensors)\n",
    "        self.tensors = tensors\n",
    "\n",
    "        self.dataset_len = self.tensors[0].shape[0]\n",
    "        self.batch_size = batch_size\n",
    "        self.shuffle = shuffle\n",
    "\n",
    "        # Calculate # batches\n",
    "        n_batches, remainder = divmod(self.dataset_len, self.batch_size)\n",
    "        if remainder > 0:\n",
    "            n_batches += 1\n",
    "        self.n_batches = n_batches\n",
    "    def __iter__(self):\n",
    "        if self.shuffle:\n",
    "            r = torch.randperm(self.dataset_len)\n",
    "            self.tensors = [t[r] for t in self.tensors]\n",
    "        self.i = 0\n",
    "        return self\n",
    "\n",
    "    def __next__(self):\n",
    "        if self.i >= self.dataset_len:\n",
    "            raise StopIteration\n",
    "        batch = tuple(t[self.i:self.i+self.batch_size] for t in self.tensors)\n",
    "        self.i += self.batch_size\n",
    "        return batch\n",
    "\n",
    "    def __len__(self):\n",
    "        return self.n_batches\n",
    "    \n",
    "    \n",
    "###########################################################################\n",
    "\n",
    "\n",
    "trn_loader = FastTensorDataLoader(trn_ids, trn_att, trn_num, trn_y, batch_size = cfg.bs, shuffle = True)\n",
    "vld_loader = FastTensorDataLoader(vld_ids, vld_att, vld_num, vld_y, batch_size = cfg.bs, shuffle = False)"
   ]
  },
  {
   "cell_type": "markdown",
   "metadata": {
    "papermill": {
     "duration": 0.010877,
     "end_time": "2021-03-06T03:17:57.194271",
     "exception": false,
     "start_time": "2021-03-06T03:17:57.183394",
     "status": "completed"
    },
    "tags": []
   },
   "source": [
    "# Model"
   ]
  },
  {
   "cell_type": "code",
   "execution_count": 9,
   "metadata": {
    "execution": {
     "iopub.execute_input": "2021-03-06T03:17:57.222770Z",
     "iopub.status.busy": "2021-03-06T03:17:57.222138Z",
     "iopub.status.idle": "2021-03-06T03:17:57.224914Z",
     "shell.execute_reply": "2021-03-06T03:17:57.224389Z"
    },
    "papermill": {
     "duration": 0.019701,
     "end_time": "2021-03-06T03:17:57.225015",
     "exception": false,
     "start_time": "2021-03-06T03:17:57.205314",
     "status": "completed"
    },
    "tags": []
   },
   "outputs": [],
   "source": [
    "class MODEL(nn.Module):\n",
    "\n",
    "    def __init__(self):\n",
    "        super(MODEL, self).__init__()\n",
    "        self.backbone =  BertForSequenceClassification.from_pretrained(cfg.model, num_labels=1)\n",
    "        self.NumL = nn.Linear(in_features= 22,out_features=4)\n",
    "        self.out  = nn.Linear(in_features= 5 ,out_features=1)\n",
    "\n",
    "    def forward(self, input_ids, attention_masks, num):\n",
    "        \n",
    "        x = self.backbone(input_ids=input_ids, attention_mask=attention_masks)\n",
    "        y = torch.nn.functional.relu(self.NumL(num))\n",
    "        \n",
    "        z = torch.cat((x['logits'], y), 1)\n",
    "        z = self.out(z)\n",
    "        \n",
    "        return torch.nn.functional.sigmoid(z)"
   ]
  },
  {
   "cell_type": "markdown",
   "metadata": {
    "papermill": {
     "duration": 0.01088,
     "end_time": "2021-03-06T03:17:57.246935",
     "exception": false,
     "start_time": "2021-03-06T03:17:57.236055",
     "status": "completed"
    },
    "tags": []
   },
   "source": [
    "# Trainning"
   ]
  },
  {
   "cell_type": "code",
   "execution_count": 10,
   "metadata": {
    "execution": {
     "iopub.execute_input": "2021-03-06T03:17:57.278556Z",
     "iopub.status.busy": "2021-03-06T03:17:57.277862Z",
     "iopub.status.idle": "2021-03-06T03:17:57.280313Z",
     "shell.execute_reply": "2021-03-06T03:17:57.280779Z"
    },
    "papermill": {
     "duration": 0.022764,
     "end_time": "2021-03-06T03:17:57.280901",
     "exception": false,
     "start_time": "2021-03-06T03:17:57.258137",
     "status": "completed"
    },
    "tags": []
   },
   "outputs": [],
   "source": [
    "###################################################################################################\n",
    "def train_func(model, data_loader, criterion, optimizer):\n",
    "    train_loss = 0.0\n",
    "    \n",
    "    model.train()\n",
    "    for ids, att, num, y in data_loader:\n",
    "        \n",
    "        ids = ids.to(device)\n",
    "        att = att.to(device)\n",
    "        num = num.to(device)\n",
    "        y = y.to(device)\n",
    "        \n",
    "        optimizer.zero_grad()\n",
    "        \n",
    "        y_preds = model(ids, att, num).squeeze()\n",
    "        \n",
    "        loss = criterion(y_preds, y)\n",
    "        loss.backward()\n",
    "        \n",
    "        #torch.nn.utils.clip_grad_norm_(model.parameters(), 0.005)\n",
    "        \n",
    "        optimizer.step()\n",
    "        train_loss += loss.item()\n",
    "\n",
    "        \n",
    "    return train_loss / len(data_loader)\n",
    "###################################################################################################\n",
    "\n",
    "###################################################################################################    \n",
    "def valid_func(model, data_loader, criterion):\n",
    "    valid_preds =  []\n",
    "    valid_loss = 0.0\n",
    "    \n",
    "    model.eval()\n",
    "    for ids, att, num, y in data_loader:\n",
    "        \n",
    "        ids = ids.to(device)\n",
    "        att = att.to(device)\n",
    "        num = num.to(device)\n",
    "        y = y.to(device)\n",
    "        \n",
    "        with torch.no_grad():\n",
    "            y_preds = model(ids, att, num).squeeze()\n",
    "        \n",
    "        loss = criterion(y_preds, y)\n",
    "        valid_loss += loss.item()\n",
    "        \n",
    "        valid_preds.append(y_preds.to('cpu').detach().numpy())\n",
    "        \n",
    "    return valid_loss / len(data_loader), np.concatenate(valid_preds)\n",
    "###################################################################################################"
   ]
  },
  {
   "cell_type": "code",
   "execution_count": 11,
   "metadata": {
    "execution": {
     "iopub.execute_input": "2021-03-06T03:17:57.310291Z",
     "iopub.status.busy": "2021-03-06T03:17:57.309598Z",
     "iopub.status.idle": "2021-03-06T03:17:57.312387Z",
     "shell.execute_reply": "2021-03-06T03:17:57.311992Z"
    },
    "papermill": {
     "duration": 0.020474,
     "end_time": "2021-03-06T03:17:57.312492",
     "exception": false,
     "start_time": "2021-03-06T03:17:57.292018",
     "status": "completed"
    },
    "tags": []
   },
   "outputs": [],
   "source": [
    "def start_training():\n",
    "    \n",
    "    model = MODEL()                \n",
    "    model.to(device)\n",
    "    \n",
    "    optimizer = torch.optim.Adam(model.parameters(), lr = cfg.lr)\n",
    "    \n",
    "    \n",
    "    criterion = nn.BCELoss().to(device)\n",
    "    \n",
    "    \n",
    "    #-----------------------------------------------------------------#\n",
    "    train_losses = []\n",
    "    valid_losses = []\n",
    "    \n",
    "    for epoch in range(cfg.EPOCHS):\n",
    "        start_time = time.time()\n",
    "        \n",
    "        train_loss = train_func(model, trn_loader, criterion, optimizer)\n",
    "        valid_loss, valid_prediction = valid_func(model, vld_loader, criterion)\n",
    "        train_losses.append(train_loss)\n",
    "        valid_losses.append(valid_loss)      \n",
    "\n",
    "        \n",
    "        \n",
    "        torch.save(model.state_dict(), f'm_{epoch}.pth')\n",
    "        time_taken = time.time() - start_time\n",
    "        print('Epoch {:2d} | loss: {:.4f}  | val_Loss: {:.4f} | {:d}s'.\n",
    "          format(epoch, train_loss, valid_loss, int(time_taken)))\n",
    "        \n",
    "    return train_losses, valid_losses, valid_prediction"
   ]
  },
  {
   "cell_type": "code",
   "execution_count": 12,
   "metadata": {
    "execution": {
     "iopub.execute_input": "2021-03-06T03:17:57.340575Z",
     "iopub.status.busy": "2021-03-06T03:17:57.338553Z",
     "iopub.status.idle": "2021-03-06T04:19:06.729197Z",
     "shell.execute_reply": "2021-03-06T04:19:06.729634Z"
    },
    "papermill": {
     "duration": 3669.406012,
     "end_time": "2021-03-06T04:19:06.729830",
     "exception": false,
     "start_time": "2021-03-06T03:17:57.323818",
     "status": "completed"
    },
    "tags": []
   },
   "outputs": [
    {
     "data": {
      "application/vnd.jupyter.widget-view+json": {
       "model_id": "4cd917b4f4b64bedad5c0705e63061ac",
       "version_major": 2,
       "version_minor": 0
      },
      "text/plain": [
       "Downloading:   0%|          | 0.00/433 [00:00<?, ?B/s]"
      ]
     },
     "metadata": {},
     "output_type": "display_data"
    },
    {
     "data": {
      "application/vnd.jupyter.widget-view+json": {
       "model_id": "4a286bdb79cb4baaafff7d00c5ddab33",
       "version_major": 2,
       "version_minor": 0
      },
      "text/plain": [
       "Downloading:   0%|          | 0.00/440M [00:00<?, ?B/s]"
      ]
     },
     "metadata": {},
     "output_type": "display_data"
    },
    {
     "name": "stderr",
     "output_type": "stream",
     "text": [
      "Some weights of the model checkpoint at bert-base-uncased were not used when initializing BertForSequenceClassification: ['cls.predictions.bias', 'cls.predictions.transform.dense.weight', 'cls.predictions.transform.dense.bias', 'cls.predictions.decoder.weight', 'cls.seq_relationship.weight', 'cls.seq_relationship.bias', 'cls.predictions.transform.LayerNorm.weight', 'cls.predictions.transform.LayerNorm.bias']\n",
      "- This IS expected if you are initializing BertForSequenceClassification from the checkpoint of a model trained on another task or with another architecture (e.g. initializing a BertForSequenceClassification model from a BertForPreTraining model).\n",
      "- This IS NOT expected if you are initializing BertForSequenceClassification from the checkpoint of a model that you expect to be exactly identical (initializing a BertForSequenceClassification model from a BertForSequenceClassification model).\n",
      "Some weights of BertForSequenceClassification were not initialized from the model checkpoint at bert-base-uncased and are newly initialized: ['classifier.weight', 'classifier.bias']\n",
      "You should probably TRAIN this model on a down-stream task to be able to use it for predictions and inference.\n"
     ]
    },
    {
     "name": "stdout",
     "output_type": "stream",
     "text": [
      "Epoch  0 | loss: 0.7078  | val_Loss: 0.6963 | 364s\n",
      "Epoch  1 | loss: 0.6978  | val_Loss: 0.6839 | 363s\n",
      "Epoch  2 | loss: 0.6558  | val_Loss: 0.6821 | 363s\n",
      "Epoch  3 | loss: 0.6132  | val_Loss: 0.6706 | 363s\n",
      "Epoch  4 | loss: 0.5911  | val_Loss: 0.6504 | 363s\n",
      "Epoch  5 | loss: 0.5110  | val_Loss: 0.6354 | 363s\n",
      "Epoch  6 | loss: 0.5701  | val_Loss: 0.6468 | 363s\n",
      "Epoch  7 | loss: 0.5563  | val_Loss: 0.6059 | 363s\n",
      "Epoch  8 | loss: 0.4455  | val_Loss: 0.6035 | 363s\n",
      "Epoch  9 | loss: 0.5577  | val_Loss: 0.5919 | 363s\n"
     ]
    }
   ],
   "source": [
    "train_losses, valid_losses, valid_prediction = start_training()"
   ]
  },
  {
   "cell_type": "code",
   "execution_count": 13,
   "metadata": {
    "execution": {
     "iopub.execute_input": "2021-03-06T04:19:06.766097Z",
     "iopub.status.busy": "2021-03-06T04:19:06.765277Z",
     "iopub.status.idle": "2021-03-06T04:19:06.769527Z",
     "shell.execute_reply": "2021-03-06T04:19:06.769107Z"
    },
    "papermill": {
     "duration": 0.023597,
     "end_time": "2021-03-06T04:19:06.769659",
     "exception": false,
     "start_time": "2021-03-06T04:19:06.746062",
     "status": "completed"
    },
    "tags": []
   },
   "outputs": [],
   "source": [
    "#Epoch  4 | loss: 0.4837  | val_Loss: 0.5030 | 365s"
   ]
  },
  {
   "cell_type": "code",
   "execution_count": 14,
   "metadata": {
    "execution": {
     "iopub.execute_input": "2021-03-06T04:19:06.807495Z",
     "iopub.status.busy": "2021-03-06T04:19:06.806722Z",
     "iopub.status.idle": "2021-03-06T04:19:06.816885Z",
     "shell.execute_reply": "2021-03-06T04:19:06.817270Z"
    },
    "papermill": {
     "duration": 0.031529,
     "end_time": "2021-03-06T04:19:06.817399",
     "exception": false,
     "start_time": "2021-03-06T04:19:06.785870",
     "status": "completed"
    },
    "tags": []
   },
   "outputs": [
    {
     "data": {
      "text/plain": [
       "0.8046166373883766"
      ]
     },
     "execution_count": 14,
     "metadata": {},
     "output_type": "execute_result"
    }
   ],
   "source": [
    "from sklearn.metrics import roc_auc_score\n",
    "roc_auc_score(valid['label'], valid_prediction)"
   ]
  },
  {
   "cell_type": "code",
   "execution_count": null,
   "metadata": {
    "papermill": {
     "duration": 0.016294,
     "end_time": "2021-03-06T04:19:06.850484",
     "exception": false,
     "start_time": "2021-03-06T04:19:06.834190",
     "status": "completed"
    },
    "tags": []
   },
   "outputs": [],
   "source": []
  }
 ],
 "metadata": {
  "kernelspec": {
   "display_name": "Python 3",
   "language": "python",
   "name": "python3"
  },
  "language_info": {
   "codemirror_mode": {
    "name": "ipython",
    "version": 3
   },
   "file_extension": ".py",
   "mimetype": "text/x-python",
   "name": "python",
   "nbconvert_exporter": "python",
   "pygments_lexer": "ipython3",
   "version": "3.7.9"
  },
  "papermill": {
   "default_parameters": {},
   "duration": 3766.48761,
   "end_time": "2021-03-06T04:19:08.879948",
   "environment_variables": {},
   "exception": null,
   "input_path": "__notebook__.ipynb",
   "output_path": "__notebook__.ipynb",
   "parameters": {},
   "start_time": "2021-03-06T03:16:22.392338",
   "version": "2.2.2"
  },
  "widgets": {
   "application/vnd.jupyter.widget-state+json": {
    "state": {
     "06cf89fff3224150839371d5a1c7bea8": {
      "model_module": "@jupyter-widgets/controls",
      "model_module_version": "1.5.0",
      "model_name": "DescriptionStyleModel",
      "state": {
       "_model_module": "@jupyter-widgets/controls",
       "_model_module_version": "1.5.0",
       "_model_name": "DescriptionStyleModel",
       "_view_count": null,
       "_view_module": "@jupyter-widgets/base",
       "_view_module_version": "1.2.0",
       "_view_name": "StyleView",
       "description_width": ""
      }
     },
     "0fc489e6e7b44b85b5a803db76d4ac59": {
      "model_module": "@jupyter-widgets/base",
      "model_module_version": "1.2.0",
      "model_name": "LayoutModel",
      "state": {
       "_model_module": "@jupyter-widgets/base",
       "_model_module_version": "1.2.0",
       "_model_name": "LayoutModel",
       "_view_count": null,
       "_view_module": "@jupyter-widgets/base",
       "_view_module_version": "1.2.0",
       "_view_name": "LayoutView",
       "align_content": null,
       "align_items": null,
       "align_self": null,
       "border": null,
       "bottom": null,
       "display": null,
       "flex": null,
       "flex_flow": null,
       "grid_area": null,
       "grid_auto_columns": null,
       "grid_auto_flow": null,
       "grid_auto_rows": null,
       "grid_column": null,
       "grid_gap": null,
       "grid_row": null,
       "grid_template_areas": null,
       "grid_template_columns": null,
       "grid_template_rows": null,
       "height": null,
       "justify_content": null,
       "justify_items": null,
       "left": null,
       "margin": null,
       "max_height": null,
       "max_width": null,
       "min_height": null,
       "min_width": null,
       "object_fit": null,
       "object_position": null,
       "order": null,
       "overflow": null,
       "overflow_x": null,
       "overflow_y": null,
       "padding": null,
       "right": null,
       "top": null,
       "visibility": null,
       "width": null
      }
     },
     "227a9f2c8c2046c2b3fdb8ce8bceba7f": {
      "model_module": "@jupyter-widgets/base",
      "model_module_version": "1.2.0",
      "model_name": "LayoutModel",
      "state": {
       "_model_module": "@jupyter-widgets/base",
       "_model_module_version": "1.2.0",
       "_model_name": "LayoutModel",
       "_view_count": null,
       "_view_module": "@jupyter-widgets/base",
       "_view_module_version": "1.2.0",
       "_view_name": "LayoutView",
       "align_content": null,
       "align_items": null,
       "align_self": null,
       "border": null,
       "bottom": null,
       "display": null,
       "flex": null,
       "flex_flow": null,
       "grid_area": null,
       "grid_auto_columns": null,
       "grid_auto_flow": null,
       "grid_auto_rows": null,
       "grid_column": null,
       "grid_gap": null,
       "grid_row": null,
       "grid_template_areas": null,
       "grid_template_columns": null,
       "grid_template_rows": null,
       "height": null,
       "justify_content": null,
       "justify_items": null,
       "left": null,
       "margin": null,
       "max_height": null,
       "max_width": null,
       "min_height": null,
       "min_width": null,
       "object_fit": null,
       "object_position": null,
       "order": null,
       "overflow": null,
       "overflow_x": null,
       "overflow_y": null,
       "padding": null,
       "right": null,
       "top": null,
       "visibility": null,
       "width": null
      }
     },
     "2d21c020f6d5456e9fa70647dc64e2a7": {
      "model_module": "@jupyter-widgets/controls",
      "model_module_version": "1.5.0",
      "model_name": "ProgressStyleModel",
      "state": {
       "_model_module": "@jupyter-widgets/controls",
       "_model_module_version": "1.5.0",
       "_model_name": "ProgressStyleModel",
       "_view_count": null,
       "_view_module": "@jupyter-widgets/base",
       "_view_module_version": "1.2.0",
       "_view_name": "StyleView",
       "bar_color": null,
       "description_width": ""
      }
     },
     "2eb413e85d494bdb97b7bdf402d98712": {
      "model_module": "@jupyter-widgets/controls",
      "model_module_version": "1.5.0",
      "model_name": "FloatProgressModel",
      "state": {
       "_dom_classes": [],
       "_model_module": "@jupyter-widgets/controls",
       "_model_module_version": "1.5.0",
       "_model_name": "FloatProgressModel",
       "_view_count": null,
       "_view_module": "@jupyter-widgets/controls",
       "_view_module_version": "1.5.0",
       "_view_name": "ProgressView",
       "bar_style": "success",
       "description": "",
       "description_tooltip": null,
       "layout": "IPY_MODEL_38f5b076fbea4aca9637ec8bdfbb9b16",
       "max": 433.0,
       "min": 0.0,
       "orientation": "horizontal",
       "style": "IPY_MODEL_6be53e7b65bc449eb3b97cc863dd89df",
       "value": 433.0
      }
     },
     "38f5b076fbea4aca9637ec8bdfbb9b16": {
      "model_module": "@jupyter-widgets/base",
      "model_module_version": "1.2.0",
      "model_name": "LayoutModel",
      "state": {
       "_model_module": "@jupyter-widgets/base",
       "_model_module_version": "1.2.0",
       "_model_name": "LayoutModel",
       "_view_count": null,
       "_view_module": "@jupyter-widgets/base",
       "_view_module_version": "1.2.0",
       "_view_name": "LayoutView",
       "align_content": null,
       "align_items": null,
       "align_self": null,
       "border": null,
       "bottom": null,
       "display": null,
       "flex": null,
       "flex_flow": null,
       "grid_area": null,
       "grid_auto_columns": null,
       "grid_auto_flow": null,
       "grid_auto_rows": null,
       "grid_column": null,
       "grid_gap": null,
       "grid_row": null,
       "grid_template_areas": null,
       "grid_template_columns": null,
       "grid_template_rows": null,
       "height": null,
       "justify_content": null,
       "justify_items": null,
       "left": null,
       "margin": null,
       "max_height": null,
       "max_width": null,
       "min_height": null,
       "min_width": null,
       "object_fit": null,
       "object_position": null,
       "order": null,
       "overflow": null,
       "overflow_x": null,
       "overflow_y": null,
       "padding": null,
       "right": null,
       "top": null,
       "visibility": null,
       "width": null
      }
     },
     "390a7be144d64e35ac2ffd7ab8a24d88": {
      "model_module": "@jupyter-widgets/controls",
      "model_module_version": "1.5.0",
      "model_name": "DescriptionStyleModel",
      "state": {
       "_model_module": "@jupyter-widgets/controls",
       "_model_module_version": "1.5.0",
       "_model_name": "DescriptionStyleModel",
       "_view_count": null,
       "_view_module": "@jupyter-widgets/base",
       "_view_module_version": "1.2.0",
       "_view_name": "StyleView",
       "description_width": ""
      }
     },
     "4a286bdb79cb4baaafff7d00c5ddab33": {
      "model_module": "@jupyter-widgets/controls",
      "model_module_version": "1.5.0",
      "model_name": "HBoxModel",
      "state": {
       "_dom_classes": [],
       "_model_module": "@jupyter-widgets/controls",
       "_model_module_version": "1.5.0",
       "_model_name": "HBoxModel",
       "_view_count": null,
       "_view_module": "@jupyter-widgets/controls",
       "_view_module_version": "1.5.0",
       "_view_name": "HBoxView",
       "box_style": "",
       "children": [
        "IPY_MODEL_fec7e8ae2bc546d5905645d3071c7be9",
        "IPY_MODEL_e120b3280074425091bd5c6586f44a54",
        "IPY_MODEL_a8fc6dbe09ed4ad2b4efc0f355d008a0"
       ],
       "layout": "IPY_MODEL_7e3f2d212b564123a180ae842c79db94"
      }
     },
     "4cd917b4f4b64bedad5c0705e63061ac": {
      "model_module": "@jupyter-widgets/controls",
      "model_module_version": "1.5.0",
      "model_name": "HBoxModel",
      "state": {
       "_dom_classes": [],
       "_model_module": "@jupyter-widgets/controls",
       "_model_module_version": "1.5.0",
       "_model_name": "HBoxModel",
       "_view_count": null,
       "_view_module": "@jupyter-widgets/controls",
       "_view_module_version": "1.5.0",
       "_view_name": "HBoxView",
       "box_style": "",
       "children": [
        "IPY_MODEL_d8674a3568064363bee38adb40e75065",
        "IPY_MODEL_2eb413e85d494bdb97b7bdf402d98712",
        "IPY_MODEL_7042647e35944d6783fd451b426cadf8"
       ],
       "layout": "IPY_MODEL_b7e5e7be017f4be2bb5d4e5565d7db79"
      }
     },
     "4fa1db83ca5745ed92bf70064c4f5f02": {
      "model_module": "@jupyter-widgets/base",
      "model_module_version": "1.2.0",
      "model_name": "LayoutModel",
      "state": {
       "_model_module": "@jupyter-widgets/base",
       "_model_module_version": "1.2.0",
       "_model_name": "LayoutModel",
       "_view_count": null,
       "_view_module": "@jupyter-widgets/base",
       "_view_module_version": "1.2.0",
       "_view_name": "LayoutView",
       "align_content": null,
       "align_items": null,
       "align_self": null,
       "border": null,
       "bottom": null,
       "display": null,
       "flex": null,
       "flex_flow": null,
       "grid_area": null,
       "grid_auto_columns": null,
       "grid_auto_flow": null,
       "grid_auto_rows": null,
       "grid_column": null,
       "grid_gap": null,
       "grid_row": null,
       "grid_template_areas": null,
       "grid_template_columns": null,
       "grid_template_rows": null,
       "height": null,
       "justify_content": null,
       "justify_items": null,
       "left": null,
       "margin": null,
       "max_height": null,
       "max_width": null,
       "min_height": null,
       "min_width": null,
       "object_fit": null,
       "object_position": null,
       "order": null,
       "overflow": null,
       "overflow_x": null,
       "overflow_y": null,
       "padding": null,
       "right": null,
       "top": null,
       "visibility": null,
       "width": null
      }
     },
     "58a1cc98d9f043b8ac81fa854a2b99c8": {
      "model_module": "@jupyter-widgets/controls",
      "model_module_version": "1.5.0",
      "model_name": "HBoxModel",
      "state": {
       "_dom_classes": [],
       "_model_module": "@jupyter-widgets/controls",
       "_model_module_version": "1.5.0",
       "_model_name": "HBoxModel",
       "_view_count": null,
       "_view_module": "@jupyter-widgets/controls",
       "_view_module_version": "1.5.0",
       "_view_name": "HBoxView",
       "box_style": "",
       "children": [
        "IPY_MODEL_a84a6dea9b1244ef94819505087e1173",
        "IPY_MODEL_b57d31c85c3b49cdad799da29fe4a8e2",
        "IPY_MODEL_7a007cfd28c345419b2430cd86cba14b"
       ],
       "layout": "IPY_MODEL_0fc489e6e7b44b85b5a803db76d4ac59"
      }
     },
     "5f2ebca87335440984328b9ee159b478": {
      "model_module": "@jupyter-widgets/controls",
      "model_module_version": "1.5.0",
      "model_name": "DescriptionStyleModel",
      "state": {
       "_model_module": "@jupyter-widgets/controls",
       "_model_module_version": "1.5.0",
       "_model_name": "DescriptionStyleModel",
       "_view_count": null,
       "_view_module": "@jupyter-widgets/base",
       "_view_module_version": "1.2.0",
       "_view_name": "StyleView",
       "description_width": ""
      }
     },
     "6563cf8f88cd4c579cb7821ee4cdcbc6": {
      "model_module": "@jupyter-widgets/controls",
      "model_module_version": "1.5.0",
      "model_name": "DescriptionStyleModel",
      "state": {
       "_model_module": "@jupyter-widgets/controls",
       "_model_module_version": "1.5.0",
       "_model_name": "DescriptionStyleModel",
       "_view_count": null,
       "_view_module": "@jupyter-widgets/base",
       "_view_module_version": "1.2.0",
       "_view_name": "StyleView",
       "description_width": ""
      }
     },
     "6be53e7b65bc449eb3b97cc863dd89df": {
      "model_module": "@jupyter-widgets/controls",
      "model_module_version": "1.5.0",
      "model_name": "ProgressStyleModel",
      "state": {
       "_model_module": "@jupyter-widgets/controls",
       "_model_module_version": "1.5.0",
       "_model_name": "ProgressStyleModel",
       "_view_count": null,
       "_view_module": "@jupyter-widgets/base",
       "_view_module_version": "1.2.0",
       "_view_name": "StyleView",
       "bar_color": null,
       "description_width": ""
      }
     },
     "7042647e35944d6783fd451b426cadf8": {
      "model_module": "@jupyter-widgets/controls",
      "model_module_version": "1.5.0",
      "model_name": "HTMLModel",
      "state": {
       "_dom_classes": [],
       "_model_module": "@jupyter-widgets/controls",
       "_model_module_version": "1.5.0",
       "_model_name": "HTMLModel",
       "_view_count": null,
       "_view_module": "@jupyter-widgets/controls",
       "_view_module_version": "1.5.0",
       "_view_name": "HTMLView",
       "description": "",
       "description_tooltip": null,
       "layout": "IPY_MODEL_88737558745e4691803e7a4a23d7e826",
       "placeholder": "​",
       "style": "IPY_MODEL_6563cf8f88cd4c579cb7821ee4cdcbc6",
       "value": " 433/433 [00:00&lt;00:00, 14.3kB/s]"
      }
     },
     "7a007cfd28c345419b2430cd86cba14b": {
      "model_module": "@jupyter-widgets/controls",
      "model_module_version": "1.5.0",
      "model_name": "HTMLModel",
      "state": {
       "_dom_classes": [],
       "_model_module": "@jupyter-widgets/controls",
       "_model_module_version": "1.5.0",
       "_model_name": "HTMLModel",
       "_view_count": null,
       "_view_module": "@jupyter-widgets/controls",
       "_view_module_version": "1.5.0",
       "_view_name": "HTMLView",
       "description": "",
       "description_tooltip": null,
       "layout": "IPY_MODEL_b60e96bae35348fca33f2fb1475ecd7d",
       "placeholder": "​",
       "style": "IPY_MODEL_d67a942d7bc2448a9f1ff34f17756cce",
       "value": " 232k/232k [00:00&lt;00:00, 653kB/s]"
      }
     },
     "7e3f2d212b564123a180ae842c79db94": {
      "model_module": "@jupyter-widgets/base",
      "model_module_version": "1.2.0",
      "model_name": "LayoutModel",
      "state": {
       "_model_module": "@jupyter-widgets/base",
       "_model_module_version": "1.2.0",
       "_model_name": "LayoutModel",
       "_view_count": null,
       "_view_module": "@jupyter-widgets/base",
       "_view_module_version": "1.2.0",
       "_view_name": "LayoutView",
       "align_content": null,
       "align_items": null,
       "align_self": null,
       "border": null,
       "bottom": null,
       "display": null,
       "flex": null,
       "flex_flow": null,
       "grid_area": null,
       "grid_auto_columns": null,
       "grid_auto_flow": null,
       "grid_auto_rows": null,
       "grid_column": null,
       "grid_gap": null,
       "grid_row": null,
       "grid_template_areas": null,
       "grid_template_columns": null,
       "grid_template_rows": null,
       "height": null,
       "justify_content": null,
       "justify_items": null,
       "left": null,
       "margin": null,
       "max_height": null,
       "max_width": null,
       "min_height": null,
       "min_width": null,
       "object_fit": null,
       "object_position": null,
       "order": null,
       "overflow": null,
       "overflow_x": null,
       "overflow_y": null,
       "padding": null,
       "right": null,
       "top": null,
       "visibility": null,
       "width": null
      }
     },
     "816d628aa9bb43a0a840153eef9cd82b": {
      "model_module": "@jupyter-widgets/base",
      "model_module_version": "1.2.0",
      "model_name": "LayoutModel",
      "state": {
       "_model_module": "@jupyter-widgets/base",
       "_model_module_version": "1.2.0",
       "_model_name": "LayoutModel",
       "_view_count": null,
       "_view_module": "@jupyter-widgets/base",
       "_view_module_version": "1.2.0",
       "_view_name": "LayoutView",
       "align_content": null,
       "align_items": null,
       "align_self": null,
       "border": null,
       "bottom": null,
       "display": null,
       "flex": null,
       "flex_flow": null,
       "grid_area": null,
       "grid_auto_columns": null,
       "grid_auto_flow": null,
       "grid_auto_rows": null,
       "grid_column": null,
       "grid_gap": null,
       "grid_row": null,
       "grid_template_areas": null,
       "grid_template_columns": null,
       "grid_template_rows": null,
       "height": null,
       "justify_content": null,
       "justify_items": null,
       "left": null,
       "margin": null,
       "max_height": null,
       "max_width": null,
       "min_height": null,
       "min_width": null,
       "object_fit": null,
       "object_position": null,
       "order": null,
       "overflow": null,
       "overflow_x": null,
       "overflow_y": null,
       "padding": null,
       "right": null,
       "top": null,
       "visibility": null,
       "width": null
      }
     },
     "88737558745e4691803e7a4a23d7e826": {
      "model_module": "@jupyter-widgets/base",
      "model_module_version": "1.2.0",
      "model_name": "LayoutModel",
      "state": {
       "_model_module": "@jupyter-widgets/base",
       "_model_module_version": "1.2.0",
       "_model_name": "LayoutModel",
       "_view_count": null,
       "_view_module": "@jupyter-widgets/base",
       "_view_module_version": "1.2.0",
       "_view_name": "LayoutView",
       "align_content": null,
       "align_items": null,
       "align_self": null,
       "border": null,
       "bottom": null,
       "display": null,
       "flex": null,
       "flex_flow": null,
       "grid_area": null,
       "grid_auto_columns": null,
       "grid_auto_flow": null,
       "grid_auto_rows": null,
       "grid_column": null,
       "grid_gap": null,
       "grid_row": null,
       "grid_template_areas": null,
       "grid_template_columns": null,
       "grid_template_rows": null,
       "height": null,
       "justify_content": null,
       "justify_items": null,
       "left": null,
       "margin": null,
       "max_height": null,
       "max_width": null,
       "min_height": null,
       "min_width": null,
       "object_fit": null,
       "object_position": null,
       "order": null,
       "overflow": null,
       "overflow_x": null,
       "overflow_y": null,
       "padding": null,
       "right": null,
       "top": null,
       "visibility": null,
       "width": null
      }
     },
     "8a78896793ff4256b373bf82916b55cc": {
      "model_module": "@jupyter-widgets/controls",
      "model_module_version": "1.5.0",
      "model_name": "DescriptionStyleModel",
      "state": {
       "_model_module": "@jupyter-widgets/controls",
       "_model_module_version": "1.5.0",
       "_model_name": "DescriptionStyleModel",
       "_view_count": null,
       "_view_module": "@jupyter-widgets/base",
       "_view_module_version": "1.2.0",
       "_view_name": "StyleView",
       "description_width": ""
      }
     },
     "a84a6dea9b1244ef94819505087e1173": {
      "model_module": "@jupyter-widgets/controls",
      "model_module_version": "1.5.0",
      "model_name": "HTMLModel",
      "state": {
       "_dom_classes": [],
       "_model_module": "@jupyter-widgets/controls",
       "_model_module_version": "1.5.0",
       "_model_name": "HTMLModel",
       "_view_count": null,
       "_view_module": "@jupyter-widgets/controls",
       "_view_module_version": "1.5.0",
       "_view_name": "HTMLView",
       "description": "",
       "description_tooltip": null,
       "layout": "IPY_MODEL_4fa1db83ca5745ed92bf70064c4f5f02",
       "placeholder": "​",
       "style": "IPY_MODEL_390a7be144d64e35ac2ffd7ab8a24d88",
       "value": "Downloading: 100%"
      }
     },
     "a8fc6dbe09ed4ad2b4efc0f355d008a0": {
      "model_module": "@jupyter-widgets/controls",
      "model_module_version": "1.5.0",
      "model_name": "HTMLModel",
      "state": {
       "_dom_classes": [],
       "_model_module": "@jupyter-widgets/controls",
       "_model_module_version": "1.5.0",
       "_model_name": "HTMLModel",
       "_view_count": null,
       "_view_module": "@jupyter-widgets/controls",
       "_view_module_version": "1.5.0",
       "_view_name": "HTMLView",
       "description": "",
       "description_tooltip": null,
       "layout": "IPY_MODEL_d953ac00702b47f7a15f43d61279bed5",
       "placeholder": "​",
       "style": "IPY_MODEL_06cf89fff3224150839371d5a1c7bea8",
       "value": " 440M/440M [00:21&lt;00:00, 21.8MB/s]"
      }
     },
     "b50b71b6a73d4f9dbe82c83b7ea50954": {
      "model_module": "@jupyter-widgets/controls",
      "model_module_version": "1.5.0",
      "model_name": "ProgressStyleModel",
      "state": {
       "_model_module": "@jupyter-widgets/controls",
       "_model_module_version": "1.5.0",
       "_model_name": "ProgressStyleModel",
       "_view_count": null,
       "_view_module": "@jupyter-widgets/base",
       "_view_module_version": "1.2.0",
       "_view_name": "StyleView",
       "bar_color": null,
       "description_width": ""
      }
     },
     "b57d31c85c3b49cdad799da29fe4a8e2": {
      "model_module": "@jupyter-widgets/controls",
      "model_module_version": "1.5.0",
      "model_name": "FloatProgressModel",
      "state": {
       "_dom_classes": [],
       "_model_module": "@jupyter-widgets/controls",
       "_model_module_version": "1.5.0",
       "_model_name": "FloatProgressModel",
       "_view_count": null,
       "_view_module": "@jupyter-widgets/controls",
       "_view_module_version": "1.5.0",
       "_view_name": "ProgressView",
       "bar_style": "success",
       "description": "",
       "description_tooltip": null,
       "layout": "IPY_MODEL_227a9f2c8c2046c2b3fdb8ce8bceba7f",
       "max": 231508.0,
       "min": 0.0,
       "orientation": "horizontal",
       "style": "IPY_MODEL_b50b71b6a73d4f9dbe82c83b7ea50954",
       "value": 231508.0
      }
     },
     "b60e96bae35348fca33f2fb1475ecd7d": {
      "model_module": "@jupyter-widgets/base",
      "model_module_version": "1.2.0",
      "model_name": "LayoutModel",
      "state": {
       "_model_module": "@jupyter-widgets/base",
       "_model_module_version": "1.2.0",
       "_model_name": "LayoutModel",
       "_view_count": null,
       "_view_module": "@jupyter-widgets/base",
       "_view_module_version": "1.2.0",
       "_view_name": "LayoutView",
       "align_content": null,
       "align_items": null,
       "align_self": null,
       "border": null,
       "bottom": null,
       "display": null,
       "flex": null,
       "flex_flow": null,
       "grid_area": null,
       "grid_auto_columns": null,
       "grid_auto_flow": null,
       "grid_auto_rows": null,
       "grid_column": null,
       "grid_gap": null,
       "grid_row": null,
       "grid_template_areas": null,
       "grid_template_columns": null,
       "grid_template_rows": null,
       "height": null,
       "justify_content": null,
       "justify_items": null,
       "left": null,
       "margin": null,
       "max_height": null,
       "max_width": null,
       "min_height": null,
       "min_width": null,
       "object_fit": null,
       "object_position": null,
       "order": null,
       "overflow": null,
       "overflow_x": null,
       "overflow_y": null,
       "padding": null,
       "right": null,
       "top": null,
       "visibility": null,
       "width": null
      }
     },
     "b7e5e7be017f4be2bb5d4e5565d7db79": {
      "model_module": "@jupyter-widgets/base",
      "model_module_version": "1.2.0",
      "model_name": "LayoutModel",
      "state": {
       "_model_module": "@jupyter-widgets/base",
       "_model_module_version": "1.2.0",
       "_model_name": "LayoutModel",
       "_view_count": null,
       "_view_module": "@jupyter-widgets/base",
       "_view_module_version": "1.2.0",
       "_view_name": "LayoutView",
       "align_content": null,
       "align_items": null,
       "align_self": null,
       "border": null,
       "bottom": null,
       "display": null,
       "flex": null,
       "flex_flow": null,
       "grid_area": null,
       "grid_auto_columns": null,
       "grid_auto_flow": null,
       "grid_auto_rows": null,
       "grid_column": null,
       "grid_gap": null,
       "grid_row": null,
       "grid_template_areas": null,
       "grid_template_columns": null,
       "grid_template_rows": null,
       "height": null,
       "justify_content": null,
       "justify_items": null,
       "left": null,
       "margin": null,
       "max_height": null,
       "max_width": null,
       "min_height": null,
       "min_width": null,
       "object_fit": null,
       "object_position": null,
       "order": null,
       "overflow": null,
       "overflow_x": null,
       "overflow_y": null,
       "padding": null,
       "right": null,
       "top": null,
       "visibility": null,
       "width": null
      }
     },
     "babd034463a147c8b906cf9b6c84dd46": {
      "model_module": "@jupyter-widgets/base",
      "model_module_version": "1.2.0",
      "model_name": "LayoutModel",
      "state": {
       "_model_module": "@jupyter-widgets/base",
       "_model_module_version": "1.2.0",
       "_model_name": "LayoutModel",
       "_view_count": null,
       "_view_module": "@jupyter-widgets/base",
       "_view_module_version": "1.2.0",
       "_view_name": "LayoutView",
       "align_content": null,
       "align_items": null,
       "align_self": null,
       "border": null,
       "bottom": null,
       "display": null,
       "flex": null,
       "flex_flow": null,
       "grid_area": null,
       "grid_auto_columns": null,
       "grid_auto_flow": null,
       "grid_auto_rows": null,
       "grid_column": null,
       "grid_gap": null,
       "grid_row": null,
       "grid_template_areas": null,
       "grid_template_columns": null,
       "grid_template_rows": null,
       "height": null,
       "justify_content": null,
       "justify_items": null,
       "left": null,
       "margin": null,
       "max_height": null,
       "max_width": null,
       "min_height": null,
       "min_width": null,
       "object_fit": null,
       "object_position": null,
       "order": null,
       "overflow": null,
       "overflow_x": null,
       "overflow_y": null,
       "padding": null,
       "right": null,
       "top": null,
       "visibility": null,
       "width": null
      }
     },
     "d67a942d7bc2448a9f1ff34f17756cce": {
      "model_module": "@jupyter-widgets/controls",
      "model_module_version": "1.5.0",
      "model_name": "DescriptionStyleModel",
      "state": {
       "_model_module": "@jupyter-widgets/controls",
       "_model_module_version": "1.5.0",
       "_model_name": "DescriptionStyleModel",
       "_view_count": null,
       "_view_module": "@jupyter-widgets/base",
       "_view_module_version": "1.2.0",
       "_view_name": "StyleView",
       "description_width": ""
      }
     },
     "d8674a3568064363bee38adb40e75065": {
      "model_module": "@jupyter-widgets/controls",
      "model_module_version": "1.5.0",
      "model_name": "HTMLModel",
      "state": {
       "_dom_classes": [],
       "_model_module": "@jupyter-widgets/controls",
       "_model_module_version": "1.5.0",
       "_model_name": "HTMLModel",
       "_view_count": null,
       "_view_module": "@jupyter-widgets/controls",
       "_view_module_version": "1.5.0",
       "_view_name": "HTMLView",
       "description": "",
       "description_tooltip": null,
       "layout": "IPY_MODEL_816d628aa9bb43a0a840153eef9cd82b",
       "placeholder": "​",
       "style": "IPY_MODEL_5f2ebca87335440984328b9ee159b478",
       "value": "Downloading: 100%"
      }
     },
     "d953ac00702b47f7a15f43d61279bed5": {
      "model_module": "@jupyter-widgets/base",
      "model_module_version": "1.2.0",
      "model_name": "LayoutModel",
      "state": {
       "_model_module": "@jupyter-widgets/base",
       "_model_module_version": "1.2.0",
       "_model_name": "LayoutModel",
       "_view_count": null,
       "_view_module": "@jupyter-widgets/base",
       "_view_module_version": "1.2.0",
       "_view_name": "LayoutView",
       "align_content": null,
       "align_items": null,
       "align_self": null,
       "border": null,
       "bottom": null,
       "display": null,
       "flex": null,
       "flex_flow": null,
       "grid_area": null,
       "grid_auto_columns": null,
       "grid_auto_flow": null,
       "grid_auto_rows": null,
       "grid_column": null,
       "grid_gap": null,
       "grid_row": null,
       "grid_template_areas": null,
       "grid_template_columns": null,
       "grid_template_rows": null,
       "height": null,
       "justify_content": null,
       "justify_items": null,
       "left": null,
       "margin": null,
       "max_height": null,
       "max_width": null,
       "min_height": null,
       "min_width": null,
       "object_fit": null,
       "object_position": null,
       "order": null,
       "overflow": null,
       "overflow_x": null,
       "overflow_y": null,
       "padding": null,
       "right": null,
       "top": null,
       "visibility": null,
       "width": null
      }
     },
     "e120b3280074425091bd5c6586f44a54": {
      "model_module": "@jupyter-widgets/controls",
      "model_module_version": "1.5.0",
      "model_name": "FloatProgressModel",
      "state": {
       "_dom_classes": [],
       "_model_module": "@jupyter-widgets/controls",
       "_model_module_version": "1.5.0",
       "_model_name": "FloatProgressModel",
       "_view_count": null,
       "_view_module": "@jupyter-widgets/controls",
       "_view_module_version": "1.5.0",
       "_view_name": "ProgressView",
       "bar_style": "success",
       "description": "",
       "description_tooltip": null,
       "layout": "IPY_MODEL_babd034463a147c8b906cf9b6c84dd46",
       "max": 440473133.0,
       "min": 0.0,
       "orientation": "horizontal",
       "style": "IPY_MODEL_2d21c020f6d5456e9fa70647dc64e2a7",
       "value": 440473133.0
      }
     },
     "ebd2ec5813744ec8a9f5a2387ec53b32": {
      "model_module": "@jupyter-widgets/base",
      "model_module_version": "1.2.0",
      "model_name": "LayoutModel",
      "state": {
       "_model_module": "@jupyter-widgets/base",
       "_model_module_version": "1.2.0",
       "_model_name": "LayoutModel",
       "_view_count": null,
       "_view_module": "@jupyter-widgets/base",
       "_view_module_version": "1.2.0",
       "_view_name": "LayoutView",
       "align_content": null,
       "align_items": null,
       "align_self": null,
       "border": null,
       "bottom": null,
       "display": null,
       "flex": null,
       "flex_flow": null,
       "grid_area": null,
       "grid_auto_columns": null,
       "grid_auto_flow": null,
       "grid_auto_rows": null,
       "grid_column": null,
       "grid_gap": null,
       "grid_row": null,
       "grid_template_areas": null,
       "grid_template_columns": null,
       "grid_template_rows": null,
       "height": null,
       "justify_content": null,
       "justify_items": null,
       "left": null,
       "margin": null,
       "max_height": null,
       "max_width": null,
       "min_height": null,
       "min_width": null,
       "object_fit": null,
       "object_position": null,
       "order": null,
       "overflow": null,
       "overflow_x": null,
       "overflow_y": null,
       "padding": null,
       "right": null,
       "top": null,
       "visibility": null,
       "width": null
      }
     },
     "fec7e8ae2bc546d5905645d3071c7be9": {
      "model_module": "@jupyter-widgets/controls",
      "model_module_version": "1.5.0",
      "model_name": "HTMLModel",
      "state": {
       "_dom_classes": [],
       "_model_module": "@jupyter-widgets/controls",
       "_model_module_version": "1.5.0",
       "_model_name": "HTMLModel",
       "_view_count": null,
       "_view_module": "@jupyter-widgets/controls",
       "_view_module_version": "1.5.0",
       "_view_name": "HTMLView",
       "description": "",
       "description_tooltip": null,
       "layout": "IPY_MODEL_ebd2ec5813744ec8a9f5a2387ec53b32",
       "placeholder": "​",
       "style": "IPY_MODEL_8a78896793ff4256b373bf82916b55cc",
       "value": "Downloading: 100%"
      }
     }
    },
    "version_major": 2,
    "version_minor": 0
   }
  }
 },
 "nbformat": 4,
 "nbformat_minor": 4
}
